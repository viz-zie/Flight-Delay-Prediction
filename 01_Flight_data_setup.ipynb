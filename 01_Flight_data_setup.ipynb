{
  "nbformat": 4,
  "nbformat_minor": 0,
  "metadata": {
    "colab": {
      "provenance": []
    },
    "kernelspec": {
      "name": "python3",
      "display_name": "Python 3"
    },
    "language_info": {
      "name": "python"
    }
  },
  "cells": [
    {
      "cell_type": "markdown",
      "source": [
        "--> Combining the flight data of specific airports.\n",
        "\n",
        "--> Visualising missing data.\n",
        "\n",
        "--> Removing the rows with missing data.\n",
        "\n",
        "--> Storing the Processed flight dataframe to '**flight_data_full**.csv'.\n"
      ],
      "metadata": {
        "id": "jPA0iSw4KHBm"
      }
    },
    {
      "cell_type": "markdown",
      "source": [
        "***NECESSARY IMPORTS***"
      ],
      "metadata": {
        "id": "W5bFwmxMMIxn"
      }
    },
    {
      "cell_type": "code",
      "execution_count": null,
      "metadata": {
        "id": "UfSsj1J4yUHu"
      },
      "outputs": [],
      "source": [
        "import pandas as pd\n",
        "import os\n",
        "import missingno as msno\n"
      ]
    },
    {
      "cell_type": "code",
      "source": [
        "#selected airports\n",
        "airports = ('ATL','CLT','DEN','DFW','EWR','IAH','JFK','LAS','LAX','MCO','MIA','ORD','PHX','SEA','SFO')\n",
        "\n",
        "#required fields\n",
        "fields = (\"FlightDate\",\"Quarter\" ,\"Year\",\"Month\",\"DayofMonth\",\"CRSDepTime\",\"DepTime\",\"DepDelayMinutes\",\"DepDel15\",\"OriginAirportID\",\n",
        "          \"DestAirportID\",\"CRSArrTime\",\"ArrTime\",\"ArrDelayMinutes\",\"ArrDel15\",\"Origin\",\"Dest\")"
      ],
      "metadata": {
        "id": "cxnSfRXGMHqs"
      },
      "execution_count": null,
      "outputs": []
    },
    {
      "cell_type": "code",
      "source": [
        "df = pd.read_csv('/content/drive/MyDrive/Flight_delay_prediction/flight_data/2016_2.csv', usecols = fields)\n",
        "#df for only airports mentioned\n",
        "df = df[df[\"Origin\"].isin(airports)]\n",
        "df = df[df[\"Dest\"].isin(airports)]\n",
        "df.info()"
      ],
      "metadata": {
        "colab": {
          "base_uri": "https://localhost:8080/"
        },
        "id": "-lew5mIO3xg8",
        "outputId": "a2789b3d-880b-4789-8aad-8eaa0e168025"
      },
      "execution_count": null,
      "outputs": [
        {
          "output_type": "stream",
          "name": "stdout",
          "text": [
            "<class 'pandas.core.frame.DataFrame'>\n",
            "Int64Index: 70839 entries, 3 to 423884\n",
            "Data columns (total 17 columns):\n",
            " #   Column           Non-Null Count  Dtype  \n",
            "---  ------           --------------  -----  \n",
            " 0   Year             70839 non-null  int64  \n",
            " 1   Quarter          70839 non-null  int64  \n",
            " 2   Month            70839 non-null  int64  \n",
            " 3   DayofMonth       70839 non-null  int64  \n",
            " 4   FlightDate       70839 non-null  object \n",
            " 5   OriginAirportID  70839 non-null  int64  \n",
            " 6   Origin           70839 non-null  object \n",
            " 7   DestAirportID    70839 non-null  int64  \n",
            " 8   Dest             70839 non-null  object \n",
            " 9   CRSDepTime       70839 non-null  int64  \n",
            " 10  DepTime          70245 non-null  float64\n",
            " 11  DepDelayMinutes  70245 non-null  float64\n",
            " 12  DepDel15         70245 non-null  float64\n",
            " 13  CRSArrTime       70839 non-null  int64  \n",
            " 14  ArrTime          70207 non-null  float64\n",
            " 15  ArrDelayMinutes  70129 non-null  float64\n",
            " 16  ArrDel15         70129 non-null  float64\n",
            "dtypes: float64(6), int64(8), object(3)\n",
            "memory usage: 9.7+ MB\n"
          ]
        }
      ]
    },
    {
      "cell_type": "code",
      "source": [
        "df.isnull().sum()"
      ],
      "metadata": {
        "colab": {
          "base_uri": "https://localhost:8080/"
        },
        "id": "L4nz4gZaMnxI",
        "outputId": "3a2f1072-1314-4cb0-ff61-d36501bcb007"
      },
      "execution_count": null,
      "outputs": [
        {
          "output_type": "execute_result",
          "data": {
            "text/plain": [
              "Year                 0\n",
              "Quarter              0\n",
              "Month                0\n",
              "DayofMonth           0\n",
              "FlightDate           0\n",
              "OriginAirportID      0\n",
              "Origin               0\n",
              "DestAirportID        0\n",
              "Dest                 0\n",
              "CRSDepTime           0\n",
              "DepTime            594\n",
              "DepDelayMinutes    594\n",
              "DepDel15           594\n",
              "CRSArrTime           0\n",
              "ArrTime            632\n",
              "ArrDelayMinutes    710\n",
              "ArrDel15           710\n",
              "dtype: int64"
            ]
          },
          "metadata": {},
          "execution_count": 4
        }
      ]
    },
    {
      "cell_type": "markdown",
      "source": [
        "***HANDLING NULL VALUES***"
      ],
      "metadata": {
        "id": "XipFIGwLNIbj"
      }
    },
    {
      "cell_type": "code",
      "source": [
        "print(msno.matrix(df))\n",
        "#dropping rows with null values\n",
        "df = df.dropna(how=\"any\", axis=0)\n",
        "df.isnull().sum()\n"
      ],
      "metadata": {
        "id": "VQx77bwZ34-J",
        "colab": {
          "base_uri": "https://localhost:8080/",
          "height": 961
        },
        "outputId": "b38f25ff-f5f9-4118-f012-57d88a6c5897"
      },
      "execution_count": null,
      "outputs": [
        {
          "output_type": "stream",
          "name": "stdout",
          "text": [
            "Axes(0.125,0.11;0.698618x0.77)\n"
          ]
        },
        {
          "output_type": "execute_result",
          "data": {
            "text/plain": [
              "Year               0\n",
              "Quarter            0\n",
              "Month              0\n",
              "DayofMonth         0\n",
              "FlightDate         0\n",
              "OriginAirportID    0\n",
              "Origin             0\n",
              "DestAirportID      0\n",
              "Dest               0\n",
              "CRSDepTime         0\n",
              "DepTime            0\n",
              "DepDelayMinutes    0\n",
              "DepDel15           0\n",
              "CRSArrTime         0\n",
              "ArrTime            0\n",
              "ArrDelayMinutes    0\n",
              "ArrDel15           0\n",
              "dtype: int64"
            ]
          },
          "metadata": {},
          "execution_count": 5
        },
        {
          "output_type": "display_data",
          "data": {
            "text/plain": [
              "<Figure size 2500x1000 with 2 Axes>"
            ],
            "image/png": "[encoded data removed]"
          },
          "metadata": {}
        }
      ]
    },
    {
      "cell_type": "code",
      "source": [
        "flight_data_path = '/content/drive/MyDrive/Flight_delay_prediction/flight_data'\n",
        "flight_data_files = [os.path.join(flight_data_path, f) for f in os.listdir(flight_data_path)]\n",
        "flight_data = list()\n",
        "#creating df for each file in the flight_data folder and appending onto a list\n",
        "for file in flight_data_files:\n",
        "    if file.endswith('.csv'):\n",
        "      df = pd.read_csv(file, usecols=fields)\n",
        "      df = df[df[\"Origin\"].isin(airports)]\n",
        "      df = df[df[\"Dest\"].isin(airports)]\n",
        "      #df = df.drop(columns = [\"Origin\",\"Dest\"])\n",
        "      df = df.dropna(how=\"any\", axis=0)\n",
        "      flight_data.append(df)\n",
        "      print(file)"
      ],
      "metadata": {
        "colab": {
          "base_uri": "https://localhost:8080/"
        },
        "id": "jnOmPtlc9oAz",
        "outputId": "8ac42e70-3fb6-4beb-e103-f67934d88e14"
      },
      "execution_count": null,
      "outputs": [
        {
          "output_type": "stream",
          "name": "stdout",
          "text": [
            "/content/drive/MyDrive/Flight_delay_prediction/flight_data/2016_1.csv\n",
            "/content/drive/MyDrive/Flight_delay_prediction/flight_data/2016_2.csv\n",
            "/content/drive/MyDrive/Flight_delay_prediction/flight_data/2016_3.csv\n",
            "/content/drive/MyDrive/Flight_delay_prediction/flight_data/2016_4.csv\n",
            "/content/drive/MyDrive/Flight_delay_prediction/flight_data/2016_5.csv\n",
            "/content/drive/MyDrive/Flight_delay_prediction/flight_data/2016_7.csv\n",
            "/content/drive/MyDrive/Flight_delay_prediction/flight_data/2016_9.csv\n",
            "/content/drive/MyDrive/Flight_delay_prediction/flight_data/2016_6.csv\n",
            "/content/drive/MyDrive/Flight_delay_prediction/flight_data/2016_8.csv\n",
            "/content/drive/MyDrive/Flight_delay_prediction/flight_data/2016_10.csv\n",
            "/content/drive/MyDrive/Flight_delay_prediction/flight_data/2016_11.csv\n",
            "/content/drive/MyDrive/Flight_delay_prediction/flight_data/2016_12.csv\n",
            "/content/drive/MyDrive/Flight_delay_prediction/flight_data/2017_1.csv\n",
            "/content/drive/MyDrive/Flight_delay_prediction/flight_data/2017_2.csv\n",
            "/content/drive/MyDrive/Flight_delay_prediction/flight_data/2017_3.csv\n",
            "/content/drive/MyDrive/Flight_delay_prediction/flight_data/2017_4.csv\n",
            "/content/drive/MyDrive/Flight_delay_prediction/flight_data/2017_5.csv\n",
            "/content/drive/MyDrive/Flight_delay_prediction/flight_data/2017_6.csv\n",
            "/content/drive/MyDrive/Flight_delay_prediction/flight_data/2017_7.csv\n",
            "/content/drive/MyDrive/Flight_delay_prediction/flight_data/2017_8.csv\n",
            "/content/drive/MyDrive/Flight_delay_prediction/flight_data/2017_9.csv\n",
            "/content/drive/MyDrive/Flight_delay_prediction/flight_data/2017_10.csv\n",
            "/content/drive/MyDrive/Flight_delay_prediction/flight_data/2017_11.csv\n",
            "/content/drive/MyDrive/Flight_delay_prediction/flight_data/2017_12.csv\n"
          ]
        }
      ]
    },
    {
      "cell_type": "markdown",
      "source": [
        "***COMBINING ALL FLIGHT DATA***"
      ],
      "metadata": {
        "id": "9Q9KXTxHM_o7"
      }
    },
    {
      "cell_type": "code",
      "source": [
        "#adding the separate dataframes and creating a single df\n",
        "flight_data_df = pd.concat(flight_data)\n",
        "flight_data_df = flight_data_df.reset_index(drop=True)\n",
        "print(flight_data_df.info())\n",
        "#storing final data frame to flight_data_full.csv\n",
        "flight_data_df.to_csv(\"/content/drive/MyDrive/Flight_delay_prediction/flight_data_full.csv\")"
      ],
      "metadata": {
        "colab": {
          "base_uri": "https://localhost:8080/"
        },
        "id": "8WVjUd3DBOlJ",
        "outputId": "f1be2d28-6aa9-49ba-c550-154f802d217e"
      },
      "execution_count": null,
      "outputs": [
        {
          "output_type": "stream",
          "name": "stdout",
          "text": [
            "<class 'pandas.core.frame.DataFrame'>\n",
            "RangeIndex: 1851436 entries, 0 to 1851435\n",
            "Data columns (total 17 columns):\n",
            " #   Column           Dtype  \n",
            "---  ------           -----  \n",
            " 0   Year             int64  \n",
            " 1   Quarter          int64  \n",
            " 2   Month            int64  \n",
            " 3   DayofMonth       int64  \n",
            " 4   FlightDate       object \n",
            " 5   OriginAirportID  int64  \n",
            " 6   Origin           object \n",
            " 7   DestAirportID    int64  \n",
            " 8   Dest             object \n",
            " 9   CRSDepTime       int64  \n",
            " 10  DepTime          float64\n",
            " 11  DepDelayMinutes  float64\n",
            " 12  DepDel15         float64\n",
            " 13  CRSArrTime       int64  \n",
            " 14  ArrTime          float64\n",
            " 15  ArrDelayMinutes  float64\n",
            " 16  ArrDel15         float64\n",
            "dtypes: float64(6), int64(8), object(3)\n",
            "memory usage: 240.1+ MB\n",
            "None\n"
          ]
        }
      ]
    },
    {
      "cell_type": "code",
      "source": [
        "flight_data_df.describe()"
      ],
      "metadata": {
        "colab": {
          "base_uri": "https://localhost:8080/",
          "height": 320
        },
        "id": "Rkg1e3YzCg2f",
        "outputId": "0e7ca73a-81ad-4bd9-a8ec-bbae2c41d41e"
      },
      "execution_count": null,
      "outputs": [
        {
          "output_type": "execute_result",
          "data": {
            "text/plain": [
              "               Year       Quarter         Month    DayofMonth  \\\n",
              "count  1.851436e+06  1.851436e+06  1.851436e+06  1.851436e+06   \n",
              "mean   2.016494e+03  2.515180e+00  6.544073e+00  1.576746e+01   \n",
              "std    4.999633e-01  1.104736e+00  3.396908e+00  8.790680e+00   \n",
              "min    2.016000e+03  1.000000e+00  1.000000e+00  1.000000e+00   \n",
              "25%    2.016000e+03  2.000000e+00  4.000000e+00  8.000000e+00   \n",
              "50%    2.016000e+03  3.000000e+00  7.000000e+00  1.600000e+01   \n",
              "75%    2.017000e+03  3.000000e+00  9.000000e+00  2.300000e+01   \n",
              "max    2.017000e+03  4.000000e+00  1.200000e+01  3.100000e+01   \n",
              "\n",
              "       OriginAirportID  DestAirportID    CRSDepTime       DepTime  \\\n",
              "count     1.851436e+06   1.851436e+06  1.851436e+06  1.851436e+06   \n",
              "mean      1.273775e+04   1.273823e+04  1.327428e+03  1.328582e+03   \n",
              "std       1.354932e+03   1.354563e+03  5.115290e+02  5.270672e+02   \n",
              "min       1.039700e+04   1.039700e+04  1.000000e+00  1.000000e+00   \n",
              "25%       1.129800e+04   1.129800e+04  9.050000e+02  9.060000e+02   \n",
              "50%       1.289200e+04   1.289200e+04  1.316000e+03  1.322000e+03   \n",
              "75%       1.393000e+04   1.393000e+04  1.737000e+03  1.747000e+03   \n",
              "max       1.477100e+04   1.477100e+04  2.359000e+03  2.400000e+03   \n",
              "\n",
              "       DepDelayMinutes      DepDel15    CRSArrTime       ArrTime  \\\n",
              "count     1.851436e+06  1.851436e+06  1.851436e+06  1.851436e+06   \n",
              "mean      1.403783e+01  2.009678e-01  1.496641e+03  1.471273e+03   \n",
              "std       4.152727e+01  4.007241e-01  5.431142e+02  5.662170e+02   \n",
              "min       0.000000e+00  0.000000e+00  1.000000e+00  1.000000e+00   \n",
              "25%       0.000000e+00  0.000000e+00  1.110000e+03  1.052000e+03   \n",
              "50%       0.000000e+00  0.000000e+00  1.534000e+03  1.522000e+03   \n",
              "75%       9.000000e+00  0.000000e+00  1.938000e+03  1.934000e+03   \n",
              "max       2.149000e+03  1.000000e+00  2.400000e+03  2.400000e+03   \n",
              "\n",
              "       ArrDelayMinutes      ArrDel15  \n",
              "count     1.851436e+06  1.851436e+06  \n",
              "mean      1.426119e+01  2.095984e-01  \n",
              "std       4.143587e+01  4.070221e-01  \n",
              "min       0.000000e+00  0.000000e+00  \n",
              "25%       0.000000e+00  0.000000e+00  \n",
              "50%       0.000000e+00  0.000000e+00  \n",
              "75%       1.000000e+01  0.000000e+00  \n",
              "max       2.142000e+03  1.000000e+00  "
            ],
            "text/html": [
              "\n",
              "  <div id=\"df-27d27440-be86-44c3-b727-4888cdc0d5fa\" class=\"colab-df-container\">\n",
              "    <div>\n",
              "<style scoped>\n",
              "    .dataframe tbody tr th:only-of-type {\n",
              "        vertical-align: middle;\n",
              "    }\n",
              "\n",
              "    .dataframe tbody tr th {\n",
              "        vertical-align: top;\n",
              "    }\n",
              "\n",
              "    .dataframe thead th {\n",
              "        text-align: right;\n",
              "    }\n",
              "</style>\n",
              "<table border=\"1\" class=\"dataframe\">\n",
              "  <thead>\n",
              "    <tr style=\"text-align: right;\">\n",
              "      <th></th>\n",
              "      <th>Year</th>\n",
              "      <th>Quarter</th>\n",
              "      <th>Month</th>\n",
              "      <th>DayofMonth</th>\n",
              "      <th>OriginAirportID</th>\n",
              "      <th>DestAirportID</th>\n",
              "      <th>CRSDepTime</th>\n",
              "      <th>DepTime</th>\n",
              "      <th>DepDelayMinutes</th>\n",
              "      <th>DepDel15</th>\n",
              "      <th>CRSArrTime</th>\n",
              "      <th>ArrTime</th>\n",
              "      <th>ArrDelayMinutes</th>\n",
              "      <th>ArrDel15</th>\n",
              "    </tr>\n",
              "  </thead>\n",
              "  <tbody>\n",
              "    <tr>\n",
              "      <th>count</th>\n",
              "      <td>1.851436e+06</td>\n",
              "      <td>1.851436e+06</td>\n",
              "      <td>1.851436e+06</td>\n",
              "      <td>1.851436e+06</td>\n",
              "      <td>1.851436e+06</td>\n",
              "      <td>1.851436e+06</td>\n",
              "      <td>1.851436e+06</td>\n",
              "      <td>1.851436e+06</td>\n",
              "      <td>1.851436e+06</td>\n",
              "      <td>1.851436e+06</td>\n",
              "      <td>1.851436e+06</td>\n",
              "      <td>1.851436e+06</td>\n",
              "      <td>1.851436e+06</td>\n",
              "      <td>1.851436e+06</td>\n",
              "    </tr>\n",
              "    <tr>\n",
              "      <th>mean</th>\n",
              "      <td>2.016494e+03</td>\n",
              "      <td>2.515180e+00</td>\n",
              "      <td>6.544073e+00</td>\n",
              "      <td>1.576746e+01</td>\n",
              "      <td>1.273775e+04</td>\n",
              "      <td>1.273823e+04</td>\n",
              "      <td>1.327428e+03</td>\n",
              "      <td>1.328582e+03</td>\n",
              "      <td>1.403783e+01</td>\n",
              "      <td>2.009678e-01</td>\n",
              "      <td>1.496641e+03</td>\n",
              "      <td>1.471273e+03</td>\n",
              "      <td>1.426119e+01</td>\n",
              "      <td>2.095984e-01</td>\n",
              "    </tr>\n",
              "    <tr>\n",
              "      <th>std</th>\n",
              "      <td>4.999633e-01</td>\n",
              "      <td>1.104736e+00</td>\n",
              "      <td>3.396908e+00</td>\n",
              "      <td>8.790680e+00</td>\n",
              "      <td>1.354932e+03</td>\n",
              "      <td>1.354563e+03</td>\n",
              "      <td>5.115290e+02</td>\n",
              "      <td>5.270672e+02</td>\n",
              "      <td>4.152727e+01</td>\n",
              "      <td>4.007241e-01</td>\n",
              "      <td>5.431142e+02</td>\n",
              "      <td>5.662170e+02</td>\n",
              "      <td>4.143587e+01</td>\n",
              "      <td>4.070221e-01</td>\n",
              "    </tr>\n",
              "    <tr>\n",
              "      <th>min</th>\n",
              "      <td>2.016000e+03</td>\n",
              "      <td>1.000000e+00</td>\n",
              "      <td>1.000000e+00</td>\n",
              "      <td>1.000000e+00</td>\n",
              "      <td>1.039700e+04</td>\n",
              "      <td>1.039700e+04</td>\n",
              "      <td>1.000000e+00</td>\n",
              "      <td>1.000000e+00</td>\n",
              "      <td>0.000000e+00</td>\n",
              "      <td>0.000000e+00</td>\n",
              "      <td>1.000000e+00</td>\n",
              "      <td>1.000000e+00</td>\n",
              "      <td>0.000000e+00</td>\n",
              "      <td>0.000000e+00</td>\n",
              "    </tr>\n",
              "    <tr>\n",
              "      <th>25%</th>\n",
              "      <td>2.016000e+03</td>\n",
              "      <td>2.000000e+00</td>\n",
              "      <td>4.000000e+00</td>\n",
              "      <td>8.000000e+00</td>\n",
              "      <td>1.129800e+04</td>\n",
              "      <td>1.129800e+04</td>\n",
              "      <td>9.050000e+02</td>\n",
              "      <td>9.060000e+02</td>\n",
              "      <td>0.000000e+00</td>\n",
              "      <td>0.000000e+00</td>\n",
              "      <td>1.110000e+03</td>\n",
              "      <td>1.052000e+03</td>\n",
              "      <td>0.000000e+00</td>\n",
              "      <td>0.000000e+00</td>\n",
              "    </tr>\n",
              "    <tr>\n",
              "      <th>50%</th>\n",
              "      <td>2.016000e+03</td>\n",
              "      <td>3.000000e+00</td>\n",
              "      <td>7.000000e+00</td>\n",
              "      <td>1.600000e+01</td>\n",
              "      <td>1.289200e+04</td>\n",
              "      <td>1.289200e+04</td>\n",
              "      <td>1.316000e+03</td>\n",
              "      <td>1.322000e+03</td>\n",
              "      <td>0.000000e+00</td>\n",
              "      <td>0.000000e+00</td>\n",
              "      <td>1.534000e+03</td>\n",
              "      <td>1.522000e+03</td>\n",
              "      <td>0.000000e+00</td>\n",
              "      <td>0.000000e+00</td>\n",
              "    </tr>\n",
              "    <tr>\n",
              "      <th>75%</th>\n",
              "      <td>2.017000e+03</td>\n",
              "      <td>3.000000e+00</td>\n",
              "      <td>9.000000e+00</td>\n",
              "      <td>2.300000e+01</td>\n",
              "      <td>1.393000e+04</td>\n",
              "      <td>1.393000e+04</td>\n",
              "      <td>1.737000e+03</td>\n",
              "      <td>1.747000e+03</td>\n",
              "      <td>9.000000e+00</td>\n",
              "      <td>0.000000e+00</td>\n",
              "      <td>1.938000e+03</td>\n",
              "      <td>1.934000e+03</td>\n",
              "      <td>1.000000e+01</td>\n",
              "      <td>0.000000e+00</td>\n",
              "    </tr>\n",
              "    <tr>\n",
              "      <th>max</th>\n",
              "      <td>2.017000e+03</td>\n",
              "      <td>4.000000e+00</td>\n",
              "      <td>1.200000e+01</td>\n",
              "      <td>3.100000e+01</td>\n",
              "      <td>1.477100e+04</td>\n",
              "      <td>1.477100e+04</td>\n",
              "      <td>2.359000e+03</td>\n",
              "      <td>2.400000e+03</td>\n",
              "      <td>2.149000e+03</td>\n",
              "      <td>1.000000e+00</td>\n",
              "      <td>2.400000e+03</td>\n",
              "      <td>2.400000e+03</td>\n",
              "      <td>2.142000e+03</td>\n",
              "      <td>1.000000e+00</td>\n",
              "    </tr>\n",
              "  </tbody>\n",
              "</table>\n",
              "</div>\n",
              "    <div class=\"colab-df-buttons\">\n",
              "\n",
              "  <div class=\"colab-df-container\">\n",
              "    <button class=\"colab-df-convert\" onclick=\"convertToInteractive('df-27d27440-be86-44c3-b727-4888cdc0d5fa')\"\n",
              "            title=\"Convert this dataframe to an interactive table.\"\n",
              "            style=\"display:none;\">\n",
              "\n",
              "  <svg xmlns=\"http://www.w3.org/2000/svg\" height=\"24px\" viewBox=\"0 -960 960 960\">\n",
              "    <path d=\"M120-120v-720h720v720H120Zm60-500h600v-160H180v160Zm220 220h160v-160H400v160Zm0 220h160v-160H400v160ZM180-400h160v-160H180v160Zm440 0h160v-160H620v160ZM180-180h160v-160H180v160Zm440 0h160v-160H620v160Z\"/>\n",
              "  </svg>\n",
              "    </button>\n",
              "\n",
              "  <style>\n",
              "    .colab-df-container {\n",
              "      display:flex;\n",
              "      gap: 12px;\n",
              "    }\n",
              "\n",
              "    .colab-df-convert {\n",
              "      background-color: #E8F0FE;\n",
              "      border: none;\n",
              "      border-radius: 50%;\n",
              "      cursor: pointer;\n",
              "      display: none;\n",
              "      fill: #1967D2;\n",
              "      height: 32px;\n",
              "      padding: 0 0 0 0;\n",
              "      width: 32px;\n",
              "    }\n",
              "\n",
              "    .colab-df-convert:hover {\n",
              "      background-color: #E2EBFA;\n",
              "      box-shadow: 0px 1px 2px rgba(60, 64, 67, 0.3), 0px 1px 3px 1px rgba(60, 64, 67, 0.15);\n",
              "      fill: #174EA6;\n",
              "    }\n",
              "\n",
              "    .colab-df-buttons div {\n",
              "      margin-bottom: 4px;\n",
              "    }\n",
              "\n",
              "    [theme=dark] .colab-df-convert {\n",
              "      background-color: #3B4455;\n",
              "      fill: #D2E3FC;\n",
              "    }\n",
              "\n",
              "    [theme=dark] .colab-df-convert:hover {\n",
              "      background-color: #434B5C;\n",
              "      box-shadow: 0px 1px 3px 1px rgba(0, 0, 0, 0.15);\n",
              "      filter: drop-shadow(0px 1px 2px rgba(0, 0, 0, 0.3));\n",
              "      fill: #FFFFFF;\n",
              "    }\n",
              "  </style>\n",
              "\n",
              "    <script>\n",
              "      const buttonEl =\n",
              "        document.querySelector('#df-27d27440-be86-44c3-b727-4888cdc0d5fa button.colab-df-convert');\n",
              "      buttonEl.style.display =\n",
              "        google.colab.kernel.accessAllowed ? 'block' : 'none';\n",
              "\n",
              "      async function convertToInteractive(key) {\n",
              "        const element = document.querySelector('#df-27d27440-be86-44c3-b727-4888cdc0d5fa');\n",
              "        const dataTable =\n",
              "          await google.colab.kernel.invokeFunction('convertToInteractive',\n",
              "                                                    [key], {});\n",
              "        if (!dataTable) return;\n",
              "\n",
              "        const docLinkHtml = 'Like what you see? Visit the ' +\n",
              "          '<a target=\"_blank\" href=https://colab.research.google.com/notebooks/data_table.ipynb>data table notebook</a>'\n",
              "          + ' to learn more about interactive tables.';\n",
              "        element.innerHTML = '';\n",
              "        dataTable['output_type'] = 'display_data';\n",
              "        await google.colab.output.renderOutput(dataTable, element);\n",
              "        const docLink = document.createElement('div');\n",
              "        docLink.innerHTML = docLinkHtml;\n",
              "        element.appendChild(docLink);\n",
              "      }\n",
              "    </script>\n",
              "  </div>\n",
              "\n",
              "\n",
              "<div id=\"df-5db42b3c-9fc2-458d-80c6-9e7b65417ef9\">\n",
              "  <button class=\"colab-df-quickchart\" onclick=\"quickchart('df-5db42b3c-9fc2-458d-80c6-9e7b65417ef9')\"\n",
              "            title=\"Suggest charts.\"\n",
              "            style=\"display:none;\">\n",
              "\n",
              "<svg xmlns=\"http://www.w3.org/2000/svg\" height=\"24px\"viewBox=\"0 0 24 24\"\n",
              "     width=\"24px\">\n",
              "    <g>\n",
              "        <path d=\"M19 3H5c-1.1 0-2 .9-2 2v14c0 1.1.9 2 2 2h14c1.1 0 2-.9 2-2V5c0-1.1-.9-2-2-2zM9 17H7v-7h2v7zm4 0h-2V7h2v10zm4 0h-2v-4h2v4z\"/>\n",
              "    </g>\n",
              "</svg>\n",
              "  </button>\n",
              "\n",
              "<style>\n",
              "  .colab-df-quickchart {\n",
              "      --bg-color: #E8F0FE;\n",
              "      --fill-color: #1967D2;\n",
              "      --hover-bg-color: #E2EBFA;\n",
              "      --hover-fill-color: #174EA6;\n",
              "      --disabled-fill-color: #AAA;\n",
              "      --disabled-bg-color: #DDD;\n",
              "  }\n",
              "\n",
              "  [theme=dark] .colab-df-quickchart {\n",
              "      --bg-color: #3B4455;\n",
              "      --fill-color: #D2E3FC;\n",
              "      --hover-bg-color: #434B5C;\n",
              "      --hover-fill-color: #FFFFFF;\n",
              "      --disabled-bg-color: #3B4455;\n",
              "      --disabled-fill-color: #666;\n",
              "  }\n",
              "\n",
              "  .colab-df-quickchart {\n",
              "    background-color: var(--bg-color);\n",
              "    border: none;\n",
              "    border-radius: 50%;\n",
              "    cursor: pointer;\n",
              "    display: none;\n",
              "    fill: var(--fill-color);\n",
              "    height: 32px;\n",
              "    padding: 0;\n",
              "    width: 32px;\n",
              "  }\n",
              "\n",
              "  .colab-df-quickchart:hover {\n",
              "    background-color: var(--hover-bg-color);\n",
              "    box-shadow: 0 1px 2px rgba(60, 64, 67, 0.3), 0 1px 3px 1px rgba(60, 64, 67, 0.15);\n",
              "    fill: var(--button-hover-fill-color);\n",
              "  }\n",
              "\n",
              "  .colab-df-quickchart-complete:disabled,\n",
              "  .colab-df-quickchart-complete:disabled:hover {\n",
              "    background-color: var(--disabled-bg-color);\n",
              "    fill: var(--disabled-fill-color);\n",
              "    box-shadow: none;\n",
              "  }\n",
              "\n",
              "  .colab-df-spinner {\n",
              "    border: 2px solid var(--fill-color);\n",
              "    border-color: transparent;\n",
              "    border-bottom-color: var(--fill-color);\n",
              "    animation:\n",
              "      spin 1s steps(1) infinite;\n",
              "  }\n",
              "\n",
              "  @keyframes spin {\n",
              "    0% {\n",
              "      border-color: transparent;\n",
              "      border-bottom-color: var(--fill-color);\n",
              "      border-left-color: var(--fill-color);\n",
              "    }\n",
              "    20% {\n",
              "      border-color: transparent;\n",
              "      border-left-color: var(--fill-color);\n",
              "      border-top-color: var(--fill-color);\n",
              "    }\n",
              "    30% {\n",
              "      border-color: transparent;\n",
              "      border-left-color: var(--fill-color);\n",
              "      border-top-color: var(--fill-color);\n",
              "      border-right-color: var(--fill-color);\n",
              "    }\n",
              "    40% {\n",
              "      border-color: transparent;\n",
              "      border-right-color: var(--fill-color);\n",
              "      border-top-color: var(--fill-color);\n",
              "    }\n",
              "    60% {\n",
              "      border-color: transparent;\n",
              "      border-right-color: var(--fill-color);\n",
              "    }\n",
              "    80% {\n",
              "      border-color: transparent;\n",
              "      border-right-color: var(--fill-color);\n",
              "      border-bottom-color: var(--fill-color);\n",
              "    }\n",
              "    90% {\n",
              "      border-color: transparent;\n",
              "      border-bottom-color: var(--fill-color);\n",
              "    }\n",
              "  }\n",
              "</style>\n",
              "\n",
              "  <script>\n",
              "    async function quickchart(key) {\n",
              "      const quickchartButtonEl =\n",
              "        document.querySelector('#' + key + ' button');\n",
              "      quickchartButtonEl.disabled = true;  // To prevent multiple clicks.\n",
              "      quickchartButtonEl.classList.add('colab-df-spinner');\n",
              "      try {\n",
              "        const charts = await google.colab.kernel.invokeFunction(\n",
              "            'suggestCharts', [key], {});\n",
              "      } catch (error) {\n",
              "        console.error('Error during call to suggestCharts:', error);\n",
              "      }\n",
              "      quickchartButtonEl.classList.remove('colab-df-spinner');\n",
              "      quickchartButtonEl.classList.add('colab-df-quickchart-complete');\n",
              "    }\n",
              "    (() => {\n",
              "      let quickchartButtonEl =\n",
              "        document.querySelector('#df-5db42b3c-9fc2-458d-80c6-9e7b65417ef9 button');\n",
              "      quickchartButtonEl.style.display =\n",
              "        google.colab.kernel.accessAllowed ? 'block' : 'none';\n",
              "    })();\n",
              "  </script>\n",
              "</div>\n",
              "    </div>\n",
              "  </div>\n"
            ]
          },
          "metadata": {},
          "execution_count": 8
        }
      ]
    },
    {
      "cell_type": "code",
      "source": [
        "flight_data_df.isnull().sum()\n"
      ],
      "metadata": {
        "colab": {
          "base_uri": "https://localhost:8080/"
        },
        "id": "LW8wY3JbI83N",
        "outputId": "dd28bae7-422d-4d72-fcbc-5d2a12052a6f"
      },
      "execution_count": null,
      "outputs": [
        {
          "output_type": "execute_result",
          "data": {
            "text/plain": [
              "Year               0\n",
              "Quarter            0\n",
              "Month              0\n",
              "DayofMonth         0\n",
              "FlightDate         0\n",
              "OriginAirportID    0\n",
              "Origin             0\n",
              "DestAirportID      0\n",
              "Dest               0\n",
              "CRSDepTime         0\n",
              "DepTime            0\n",
              "DepDelayMinutes    0\n",
              "DepDel15           0\n",
              "CRSArrTime         0\n",
              "ArrTime            0\n",
              "ArrDelayMinutes    0\n",
              "ArrDel15           0\n",
              "dtype: int64"
            ]
          },
          "metadata": {},
          "execution_count": 9
        }
      ]
    },
    {
      "cell_type": "code",
      "source": [
        "flight_data_df.shape"
      ],
      "metadata": {
        "id": "Xk1QPWhwJER_",
        "colab": {
          "base_uri": "https://localhost:8080/"
        },
        "outputId": "273eb92e-ddb0-4236-9e06-67f6451b3954"
      },
      "execution_count": null,
      "outputs": [
        {
          "output_type": "execute_result",
          "data": {
            "text/plain": [
              "(1851436, 17)"
            ]
          },
          "metadata": {},
          "execution_count": 10
        }
      ]
    }
  ]
}